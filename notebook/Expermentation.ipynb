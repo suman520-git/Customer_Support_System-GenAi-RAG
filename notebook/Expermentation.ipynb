{
 "cells": [
  {
   "cell_type": "code",
   "execution_count": 1,
   "id": "bb250375",
   "metadata": {},
   "outputs": [
    {
     "name": "stdout",
     "output_type": "stream",
     "text": [
      "c\n"
     ]
    }
   ],
   "source": [
    "print('c')"
   ]
  },
  {
   "cell_type": "code",
   "execution_count": 35,
   "id": "738762fc",
   "metadata": {},
   "outputs": [],
   "source": [
    "import os\n",
    "import pandas as pd\n",
    "from langchain_core.documents import Document\n",
    "from dotenv import load_dotenv\n",
    "from langchain_astradb import AstraDBVectorStore\n",
    "\n",
    "from langchain_google_genai import ChatGoogleGenerativeAI\n",
    "from langchain_groq import ChatGroq"
   ]
  },
  {
   "cell_type": "code",
   "execution_count": 37,
   "id": "2947ec0a",
   "metadata": {},
   "outputs": [],
   "source": [
    "from langchain_google_genai import GoogleGenerativeAIEmbeddings"
   ]
  },
  {
   "cell_type": "code",
   "execution_count": 72,
   "id": "e56ffa64",
   "metadata": {},
   "outputs": [],
   "source": [
    "import uvicorn\n",
    "from fastapi import FastAPI ,Request,Form\n",
    "from fastapi.responses import HTMLResponse\n",
    "from fastapi.templating import Jinja2Templates\n",
    "from fastapi.middleware.cors import CORSMiddleware\n",
    "from fastapi.staticfiles import StaticFiles"
   ]
  },
  {
   "cell_type": "code",
   "execution_count": 62,
   "id": "96bc2162",
   "metadata": {},
   "outputs": [],
   "source": [
    "from langchain_core.runnables import RunnablePassthrough\n",
    "\n",
    "from langchain_core.output_parsers import StrOutputParser\n",
    "\n",
    "from langchain_core.prompts import ChatPromptTemplate\n"
   ]
  },
  {
   "cell_type": "code",
   "execution_count": null,
   "id": "2440851f",
   "metadata": {},
   "outputs": [
    {
     "data": {
      "text/plain": [
       "'d:\\\\Customer_Support_System(GenAi-RAG)\\\\notebook'"
      ]
     },
     "execution_count": 6,
     "metadata": {},
     "output_type": "execute_result"
    }
   ],
   "source": [
    "# Load product data from CSV"
   ]
  },
  {
   "cell_type": "code",
   "execution_count": 11,
   "id": "b4e5a03b",
   "metadata": {},
   "outputs": [],
   "source": [
    "csv_path=r'D:\\Customer_Support_System(GenAi-RAG)\\data\\flipkart_product_review.csv'\n"
   ]
  },
  {
   "cell_type": "code",
   "execution_count": 12,
   "id": "d52b01cc",
   "metadata": {},
   "outputs": [
    {
     "data": {
      "text/html": [
       "<div>\n",
       "<style scoped>\n",
       "    .dataframe tbody tr th:only-of-type {\n",
       "        vertical-align: middle;\n",
       "    }\n",
       "\n",
       "    .dataframe tbody tr th {\n",
       "        vertical-align: top;\n",
       "    }\n",
       "\n",
       "    .dataframe thead th {\n",
       "        text-align: right;\n",
       "    }\n",
       "</style>\n",
       "<table border=\"1\" class=\"dataframe\">\n",
       "  <thead>\n",
       "    <tr style=\"text-align: right;\">\n",
       "      <th></th>\n",
       "      <th>product_id</th>\n",
       "      <th>product_title</th>\n",
       "      <th>rating</th>\n",
       "      <th>summary</th>\n",
       "      <th>review</th>\n",
       "    </tr>\n",
       "  </thead>\n",
       "  <tbody>\n",
       "    <tr>\n",
       "      <th>0</th>\n",
       "      <td>ACCFZGAQJGYCYDCM</td>\n",
       "      <td>BoAt Rockerz 235v2 with ASAP charging Version ...</td>\n",
       "      <td>5</td>\n",
       "      <td>Terrific purchase</td>\n",
       "      <td>1-more flexible2-bass is very high3-sound clar...</td>\n",
       "    </tr>\n",
       "    <tr>\n",
       "      <th>1</th>\n",
       "      <td>ACCFZGAQJGYCYDCM</td>\n",
       "      <td>BoAt Rockerz 235v2 with ASAP charging Version ...</td>\n",
       "      <td>5</td>\n",
       "      <td>Terrific purchase</td>\n",
       "      <td>Super sound and good looking I like that prize</td>\n",
       "    </tr>\n",
       "    <tr>\n",
       "      <th>2</th>\n",
       "      <td>ACCFZGAQJGYCYDCM</td>\n",
       "      <td>BoAt Rockerz 235v2 with ASAP charging Version ...</td>\n",
       "      <td>5</td>\n",
       "      <td>Super!</td>\n",
       "      <td>Very much satisfied with the device at this pr...</td>\n",
       "    </tr>\n",
       "  </tbody>\n",
       "</table>\n",
       "</div>"
      ],
      "text/plain": [
       "         product_id                                      product_title  \\\n",
       "0  ACCFZGAQJGYCYDCM  BoAt Rockerz 235v2 with ASAP charging Version ...   \n",
       "1  ACCFZGAQJGYCYDCM  BoAt Rockerz 235v2 with ASAP charging Version ...   \n",
       "2  ACCFZGAQJGYCYDCM  BoAt Rockerz 235v2 with ASAP charging Version ...   \n",
       "\n",
       "   rating            summary  \\\n",
       "0       5  Terrific purchase   \n",
       "1       5  Terrific purchase   \n",
       "2       5             Super!   \n",
       "\n",
       "                                              review  \n",
       "0  1-more flexible2-bass is very high3-sound clar...  \n",
       "1     Super sound and good looking I like that prize  \n",
       "2  Very much satisfied with the device at this pr...  "
      ]
     },
     "execution_count": 12,
     "metadata": {},
     "output_type": "execute_result"
    }
   ],
   "source": [
    "df=pd.read_csv(csv_path)\n",
    "df.head(3)"
   ]
  },
  {
   "cell_type": "code",
   "execution_count": 13,
   "id": "deabef8e",
   "metadata": {},
   "outputs": [
    {
     "data": {
      "text/plain": [
       "Index(['product_id', 'product_title', 'rating', 'summary', 'review'], dtype='object')"
      ]
     },
     "execution_count": 13,
     "metadata": {},
     "output_type": "execute_result"
    }
   ],
   "source": [
    "df.columns"
   ]
  },
  {
   "cell_type": "code",
   "execution_count": 14,
   "id": "3915239b",
   "metadata": {},
   "outputs": [
    {
     "data": {
      "text/plain": [
       "(450, 5)"
      ]
     },
     "execution_count": 14,
     "metadata": {},
     "output_type": "execute_result"
    }
   ],
   "source": [
    "df.shape"
   ]
  },
  {
   "cell_type": "code",
   "execution_count": 22,
   "id": "7904e15f",
   "metadata": {},
   "outputs": [],
   "source": [
    "#Transform df data into list of Langchain Document objects.\n",
    "product_list=[]\n",
    "for _, row in df.iterrows():\n",
    "            product_entry={\n",
    "                \"product_name\":row['product_title'],\n",
    "                \"product_rating\":row['rating'],\n",
    "                \"product_summary\":row['summary'],\n",
    "                \"product_review\":row['review']\n",
    "            }\n",
    "            # print('product_entry :',product_entry)\n",
    "            product_list.append(product_entry)\n",
    "\n",
    "\n",
    "documents=[]\n",
    "for entry in product_list:\n",
    "        metadata={\n",
    "                \"product_name\":entry[\"product_name\"],\n",
    "                \"product_rating\":entry[\"product_rating\"],\n",
    "                \"product_summary\":entry[\"product_summary\"]}\n",
    "        doc=Document(page_content=entry[\"product_review\"],metadata=metadata)\n",
    "        documents.append(doc)"
   ]
  },
  {
   "cell_type": "code",
   "execution_count": 18,
   "id": "5a9ab320",
   "metadata": {},
   "outputs": [
    {
     "data": {
      "text/plain": [
       "{'product_name': 'BoAt Rockerz 235v2 with ASAP charging Version 5.0 Bluetooth Headset',\n",
       " 'product_rating': 5,\n",
       " 'product_summary': 'Terrific purchase',\n",
       " 'product_review': \"1-more flexible2-bass is very high3-sound clarity is good 4-battery back up to 6 to 8 hour's 5-main thing is fastest charging system is available in that. Only 20 min charge and get long up to 4 hours back up 6-killing look awesome 7-for gaming that product does not support 100% if you want for gaming then I'll recommend you please don't buy but you want for only music then this product is very well for you.. 8-no more wireless headphones are comparing with that headphones at this pric...\"}"
      ]
     },
     "execution_count": 18,
     "metadata": {},
     "output_type": "execute_result"
    }
   ],
   "source": [
    "product_list[0]"
   ]
  },
  {
   "cell_type": "code",
   "execution_count": 20,
   "id": "6b219242",
   "metadata": {},
   "outputs": [
    {
     "data": {
      "text/plain": [
       "450"
      ]
     },
     "execution_count": 20,
     "metadata": {},
     "output_type": "execute_result"
    }
   ],
   "source": [
    "len(product_list)"
   ]
  },
  {
   "cell_type": "code",
   "execution_count": 25,
   "id": "20ef2861",
   "metadata": {},
   "outputs": [
    {
     "data": {
      "text/plain": [
       "Document(metadata={'product_name': 'BoAt Rockerz 235v2 with ASAP charging Version 5.0 Bluetooth Headset', 'product_rating': 5, 'product_summary': 'Terrific purchase'}, page_content=\"1-more flexible2-bass is very high3-sound clarity is good 4-battery back up to 6 to 8 hour's 5-main thing is fastest charging system is available in that. Only 20 min charge and get long up to 4 hours back up 6-killing look awesome 7-for gaming that product does not support 100% if you want for gaming then I'll recommend you please don't buy but you want for only music then this product is very well for you.. 8-no more wireless headphones are comparing with that headphones at this pric...\")"
      ]
     },
     "execution_count": 25,
     "metadata": {},
     "output_type": "execute_result"
    }
   ],
   "source": [
    "documents[0]"
   ]
  },
  {
   "cell_type": "code",
   "execution_count": 26,
   "id": "8eeec138",
   "metadata": {},
   "outputs": [
    {
     "data": {
      "text/plain": [
       "450"
      ]
     },
     "execution_count": 26,
     "metadata": {},
     "output_type": "execute_result"
    }
   ],
   "source": [
    "len(documents)"
   ]
  },
  {
   "cell_type": "code",
   "execution_count": 42,
   "id": "7d0f0607",
   "metadata": {},
   "outputs": [],
   "source": [
    "os.environ[\"GOOGLE_API_KEY\"]=os.getenv(\"GOOGLE_API_KEY\")"
   ]
  },
  {
   "cell_type": "code",
   "execution_count": 46,
   "id": "8e1d9864",
   "metadata": {},
   "outputs": [],
   "source": [
    "collection_name=\"ecommercedata1\"\n",
    "vstore=AstraDBVectorStore(\n",
    "            embedding= GoogleGenerativeAIEmbeddings(model=\"models/text-embedding-004\"),\n",
    "            collection_name=collection_name,\n",
    "            api_endpoint=os.getenv(\"ASTRA_DB_API_ENDPOINT\"),\n",
    "            token=os.getenv(\"ASTRA_DB_APPLICATION_TOKEN\"),\n",
    "            namespace= os.getenv(\"ASTRA_DB_KEYSPACE\"),)\n",
    "\n",
    "#Adding documnents\n",
    "inserted_ids=vstore.add_documents(documents)"
   ]
  },
  {
   "cell_type": "code",
   "execution_count": 48,
   "id": "b9b3b23a",
   "metadata": {},
   "outputs": [
    {
     "data": {
      "text/plain": [
       "'da4f0950ea4448dd8675202464ea72d3'"
      ]
     },
     "execution_count": 48,
     "metadata": {},
     "output_type": "execute_result"
    }
   ],
   "source": [
    "inserted_ids[0]"
   ]
  },
  {
   "cell_type": "code",
   "execution_count": 49,
   "id": "0238a6ae",
   "metadata": {},
   "outputs": [
    {
     "data": {
      "text/plain": [
       "450"
      ]
     },
     "execution_count": 49,
     "metadata": {},
     "output_type": "execute_result"
    }
   ],
   "source": [
    "len(inserted_ids)"
   ]
  },
  {
   "cell_type": "code",
   "execution_count": 50,
   "id": "2ac69ed9",
   "metadata": {},
   "outputs": [
    {
     "data": {
      "text/plain": [
       "<langchain_astradb.vectorstores.AstraDBVectorStore at 0x1e1c180be50>"
      ]
     },
     "execution_count": 50,
     "metadata": {},
     "output_type": "execute_result"
    }
   ],
   "source": [
    "vstore"
   ]
  },
  {
   "cell_type": "code",
   "execution_count": 51,
   "id": "f6e5ef40",
   "metadata": {},
   "outputs": [],
   "source": [
    "#optionally do a quick search\n",
    "query=\"Can you tell me the low budget headphone?\"\n",
    "results=vstore.similarity_search(query)"
   ]
  },
  {
   "cell_type": "code",
   "execution_count": 52,
   "id": "7c9ddce9",
   "metadata": {},
   "outputs": [
    {
     "data": {
      "text/plain": [
       "[Document(id='94c418e2262845ff9d9b5db156f7d0e8', metadata={'product_name': 'BoAt BassHeads 100 Wired Headset', 'product_rating': 4, 'product_summary': 'Very Good'}, page_content='l am happy with that purchase.... l like the design of the headphone.... l like the quality of the bass also...'),\n",
       " Document(id='8ff71a4e24634d4796c09fcc8817bf8d', metadata={'product_name': 'OnePlus Bullets Wireless Z Bass Edition Bluetooth Headset', 'product_rating': 5, 'product_summary': 'Wonderful'}, page_content='The quality of the headphone is awesome. Easy to connect to any mobile and PC. Sound quality and bass are satisfactory and worth every penny. Go for it!'),\n",
       " Document(id='4257a686061e4894a737641229ffae13', metadata={'product_name': 'OnePlus Bullets Wireless Z Bass Edition Bluetooth Headset', 'product_rating': 5, 'product_summary': 'Must buy!'}, page_content='Super super head phones.the sound quality is absolutely amazing.and battery life is good.'),\n",
       " Document(id='671a96e9534144ba8079e41acbc6c1f8', metadata={'product_name': 'BoAt BassHeads 100 Wired Headset', 'product_rating': 3, 'product_summary': 'Fair'}, page_content=\"It's a really perfect earphone. I love it . Sound quality and base is too good in this cost.\")]"
      ]
     },
     "execution_count": 52,
     "metadata": {},
     "output_type": "execute_result"
    }
   ],
   "source": [
    "results"
   ]
  },
  {
   "cell_type": "code",
   "execution_count": 53,
   "id": "fa7ed1bb",
   "metadata": {},
   "outputs": [
    {
     "name": "stdout",
     "output_type": "stream",
     "text": [
      "Content: l am happy with that purchase.... l like the design of the headphone.... l like the quality of the bass also...\n",
      "Metadata: {'product_name': 'BoAt BassHeads 100 Wired Headset', 'product_rating': 4, 'product_summary': 'Very Good'}\n",
      "\n",
      "Content: The quality of the headphone is awesome. Easy to connect to any mobile and PC. Sound quality and bass are satisfactory and worth every penny. Go for it!\n",
      "Metadata: {'product_name': 'OnePlus Bullets Wireless Z Bass Edition Bluetooth Headset', 'product_rating': 5, 'product_summary': 'Wonderful'}\n",
      "\n",
      "Content: Super super head phones.the sound quality is absolutely amazing.and battery life is good.\n",
      "Metadata: {'product_name': 'OnePlus Bullets Wireless Z Bass Edition Bluetooth Headset', 'product_rating': 5, 'product_summary': 'Must buy!'}\n",
      "\n",
      "Content: It's a really perfect earphone. I love it . Sound quality and base is too good in this cost.\n",
      "Metadata: {'product_name': 'BoAt BassHeads 100 Wired Headset', 'product_rating': 3, 'product_summary': 'Fair'}\n",
      "\n"
     ]
    }
   ],
   "source": [
    "for res in results:\n",
    "    print(f\"Content: {res.page_content}\\nMetadata: {res.metadata}\\n\")"
   ]
  },
  {
   "cell_type": "code",
   "execution_count": 68,
   "id": "836f236c",
   "metadata": {},
   "outputs": [],
   "source": [
    "#vectore store as retriever\n",
    "retriever=vstore.as_retriever(search_kwargs={\"k\": 5})"
   ]
  },
  {
   "cell_type": "code",
   "execution_count": 60,
   "id": "34bb4bb1",
   "metadata": {},
   "outputs": [
    {
     "data": {
      "text/plain": [
       "[Document(id='9ba51da89ccb4550b1e4c8edbec829d4', metadata={'product_name': 'OnePlus Bullets Wireless Z Bass Edition Bluetooth Headset', 'product_rating': 5, 'product_summary': 'Awesome'}, page_content='Best earphone'),\n",
       " Document(id='94c418e2262845ff9d9b5db156f7d0e8', metadata={'product_name': 'BoAt BassHeads 100 Wired Headset', 'product_rating': 4, 'product_summary': 'Very Good'}, page_content='l am happy with that purchase.... l like the design of the headphone.... l like the quality of the bass also...')]"
      ]
     },
     "execution_count": 60,
     "metadata": {},
     "output_type": "execute_result"
    }
   ],
   "source": [
    "retriever.invoke(query)"
   ]
  },
  {
   "cell_type": "code",
   "execution_count": 63,
   "id": "5ac30e2b",
   "metadata": {},
   "outputs": [],
   "source": [
    "PROMPT_TEMPLATES={\n",
    "    \"product_bot\": \"\"\"\n",
    "    You are an expert EcommerceBot specialized in product recommendations and handling customer queries.\n",
    "    Analyze the provided product titles, ratings, and reviews to provide accurate, helpful responses.\n",
    "    Stay relevant to the context, and keep your answers concise and informative.\n",
    "\n",
    "    CONTEXT:\n",
    "    {context}\n",
    "\n",
    "    QUESTION: {question}\n",
    "\n",
    "    YOUR ANSWER:\n",
    "    \"\"\"\n",
    "\n",
    "}"
   ]
  },
  {
   "cell_type": "code",
   "execution_count": null,
   "id": "9cfb64e1",
   "metadata": {},
   "outputs": [],
   "source": []
  },
  {
   "cell_type": "code",
   "execution_count": 69,
   "id": "4968ba6b",
   "metadata": {},
   "outputs": [],
   "source": [
    "prompt=ChatPromptTemplate.from_template(PROMPT_TEMPLATES[\"product_bot\"])\n",
    "llm=gemini_model=ChatGroq(model=\"deepseek-r1-distill-llama-70b\" ,api_key=os.getenv(\"GROQ_API_KEY\"))\n",
    "\n",
    "chain=(\n",
    "        {\"context\": retriever, \"question\": RunnablePassthrough()}\n",
    "        | prompt\n",
    "        | llm\n",
    "        | StrOutputParser()\n",
    "    )\n",
    "\n",
    "query=\"Can you tell me the low budget headphone?\"\n",
    "output=chain.invoke(query)\n",
    "\n"
   ]
  },
  {
   "cell_type": "code",
   "execution_count": 70,
   "id": "2329b5a9",
   "metadata": {},
   "outputs": [
    {
     "data": {
      "text/plain": [
       "'<think>\\nOkay, so the user is asking for a low-budget headphone. Let me look through the provided documents to find the best options. \\n\\nFirst, I see the BoAt BassHeads 100 Wired Headset. It has a rating of 4 and one review mentions it\\'s \"very good\" with great design and bass. Another review gives it 3 stars but still says it\\'s perfect with good sound quality and bass for the cost. Since it\\'s wired, it\\'s likely more affordable.\\n\\nNext, the OnePlus Bullets Wireless Z Bass Edition Bluetooth Headset has a 5-star rating and positive reviews about sound quality, bass, and battery life. It\\'s wireless, which might be a bit pricier, but the reviews say it\\'s worth the money. \\n\\nThen there\\'s the realme Buds Q Bluetooth Headset with a 5-star rating and a review highlighting very good bass at a price point of 1599. That seems like a good deal for wireless earbuds.\\n\\nConsidering budget, wired headphones are usually cheaper. The BoAt BassHeads 100 is a good wired option with positive feedback. The realme Buds Q is wireless and priced at 1599, which is affordable. The OnePlus is also wireless but might be a bit more expensive, though it\\'s highly rated.\\n\\nSo, I\\'ll recommend the BoAt BassHeads 100 for a low budget and the realme Buds Q if the user can stretch a bit for wireless. Both offer great value and good bass.\\n</think>\\n\\nBased on the context provided, here are some low-budget headphone recommendations:\\n\\n1. **BoAt BassHeads 100 Wired Headset**  \\n   - **Rating**: 4/5  \\n   - **Summary**: This is a great option for those looking for a budget-friendly wired headphone. It offers good sound quality and bass, with a stylish design.  \\n\\n2. **realme Buds Q Bluetooth Headset**  \\n   - **Rating**: 5/5  \\n   - **Summary**: If you\\'re looking for a wireless option within a budget, this is a terrific choice. It offers very good bass and overall sound quality, making it a great value for the price.  \\n\\nBoth options are excellent choices for low-budget headphones, depending on whether you prefer wired or wireless.'"
      ]
     },
     "execution_count": 70,
     "metadata": {},
     "output_type": "execute_result"
    }
   ],
   "source": [
    "output"
   ]
  },
  {
   "cell_type": "code",
   "execution_count": 75,
   "id": "655e6bf5",
   "metadata": {},
   "outputs": [],
   "source": [
    "app=FastAPI()\n",
    "\n",
    "# BASE_DIR=os.path.dirname(os.path.abspath(__file__))\n",
    "\n",
    "\n",
    "\n",
    "app.mount(\"/static\", StaticFiles(directory=\"D:/Customer_Support_System(GenAi-RAG)/static\"))\n",
    "\n",
    "templates=Jinja2Templates(directory=\"D:/Customer_Support_System(GenAi-RAG)/templates\")\n",
    "\n",
    "# Allow CORS (optional for frontend)\n",
    "app.add_middleware(\n",
    "    CORSMiddleware,\n",
    "    allow_origins=[\"*\"],\n",
    "    allow_credentials=True,\n",
    "    allow_methods=[\"*\"],\n",
    "    allow_headers=[\"*\"],\n",
    ")"
   ]
  },
  {
   "cell_type": "code",
   "execution_count": 77,
   "id": "540e69fb",
   "metadata": {},
   "outputs": [],
   "source": [
    "@app.get(\"/\", response_class=HTMLResponse)\n",
    "async def index(request: Request):\n",
    "    \"\"\"\n",
    "    Render the chat interface.\n",
    "    \"\"\"\n",
    "    return templates.TemplateResponse(\"chat.html\", {\"request\": request})\n",
    "\n"
   ]
  },
  {
   "cell_type": "code",
   "execution_count": 78,
   "id": "57404108",
   "metadata": {},
   "outputs": [],
   "source": [
    "@app.post(\"/get\",response_class=HTMLResponse)\n",
    "async def chat(msg:str=Form(...)):\n",
    "    result=chain.invoke(msg)\n",
    "    print(f\"Response: {result}\")\n",
    "    return result"
   ]
  },
  {
   "cell_type": "code",
   "execution_count": 80,
   "id": "6ce1ca61",
   "metadata": {},
   "outputs": [
    {
     "name": "stderr",
     "output_type": "stream",
     "text": [
      "INFO:     Started server process [15624]\n",
      "INFO:     Waiting for application startup.\n",
      "INFO:     Application startup complete.\n",
      "INFO:     Uvicorn running on http://127.0.0.1:8000 (Press CTRL+C to quit)\n"
     ]
    },
    {
     "name": "stdout",
     "output_type": "stream",
     "text": [
      "INFO:     127.0.0.1:57154 - \"GET / HTTP/1.1\" 500 Internal Server Error\n"
     ]
    },
    {
     "name": "stderr",
     "output_type": "stream",
     "text": [
      "ERROR:    Exception in ASGI application\n",
      "Traceback (most recent call last):\n",
      "  File \"d:\\Customer_Support_System(GenAi-RAG)\\venv\\lib\\site-packages\\uvicorn\\protocols\\http\\h11_impl.py\", line 403, in run_asgi\n",
      "    result = await app(  # type: ignore[func-returns-value]\n",
      "  File \"d:\\Customer_Support_System(GenAi-RAG)\\venv\\lib\\site-packages\\uvicorn\\middleware\\proxy_headers.py\", line 60, in __call__\n",
      "    return await self.app(scope, receive, send)\n",
      "  File \"d:\\Customer_Support_System(GenAi-RAG)\\venv\\lib\\site-packages\\fastapi\\applications.py\", line 1054, in __call__\n",
      "    await super().__call__(scope, receive, send)\n",
      "  File \"d:\\Customer_Support_System(GenAi-RAG)\\venv\\lib\\site-packages\\starlette\\applications.py\", line 113, in __call__\n",
      "    await self.middleware_stack(scope, receive, send)\n",
      "  File \"d:\\Customer_Support_System(GenAi-RAG)\\venv\\lib\\site-packages\\starlette\\middleware\\errors.py\", line 186, in __call__\n",
      "    raise exc\n",
      "  File \"d:\\Customer_Support_System(GenAi-RAG)\\venv\\lib\\site-packages\\starlette\\middleware\\errors.py\", line 164, in __call__\n",
      "    await self.app(scope, receive, _send)\n",
      "  File \"d:\\Customer_Support_System(GenAi-RAG)\\venv\\lib\\site-packages\\starlette\\middleware\\cors.py\", line 85, in __call__\n",
      "    await self.app(scope, receive, send)\n",
      "  File \"d:\\Customer_Support_System(GenAi-RAG)\\venv\\lib\\site-packages\\starlette\\middleware\\exceptions.py\", line 63, in __call__\n",
      "    await wrap_app_handling_exceptions(self.app, conn)(scope, receive, send)\n",
      "  File \"d:\\Customer_Support_System(GenAi-RAG)\\venv\\lib\\site-packages\\starlette\\_exception_handler.py\", line 53, in wrapped_app\n",
      "    raise exc\n",
      "  File \"d:\\Customer_Support_System(GenAi-RAG)\\venv\\lib\\site-packages\\starlette\\_exception_handler.py\", line 42, in wrapped_app\n",
      "    await app(scope, receive, sender)\n",
      "  File \"d:\\Customer_Support_System(GenAi-RAG)\\venv\\lib\\site-packages\\starlette\\routing.py\", line 716, in __call__\n",
      "    await self.middleware_stack(scope, receive, send)\n",
      "  File \"d:\\Customer_Support_System(GenAi-RAG)\\venv\\lib\\site-packages\\starlette\\routing.py\", line 736, in app\n",
      "    await route.handle(scope, receive, send)\n",
      "  File \"d:\\Customer_Support_System(GenAi-RAG)\\venv\\lib\\site-packages\\starlette\\routing.py\", line 290, in handle\n",
      "    await self.app(scope, receive, send)\n",
      "  File \"d:\\Customer_Support_System(GenAi-RAG)\\venv\\lib\\site-packages\\starlette\\routing.py\", line 78, in app\n",
      "    await wrap_app_handling_exceptions(app, request)(scope, receive, send)\n",
      "  File \"d:\\Customer_Support_System(GenAi-RAG)\\venv\\lib\\site-packages\\starlette\\_exception_handler.py\", line 53, in wrapped_app\n",
      "    raise exc\n",
      "  File \"d:\\Customer_Support_System(GenAi-RAG)\\venv\\lib\\site-packages\\starlette\\_exception_handler.py\", line 42, in wrapped_app\n",
      "    await app(scope, receive, sender)\n",
      "  File \"d:\\Customer_Support_System(GenAi-RAG)\\venv\\lib\\site-packages\\starlette\\routing.py\", line 75, in app\n",
      "    response = await f(request)\n",
      "  File \"d:\\Customer_Support_System(GenAi-RAG)\\venv\\lib\\site-packages\\fastapi\\routing.py\", line 302, in app\n",
      "    raw_response = await run_endpoint_function(\n",
      "  File \"d:\\Customer_Support_System(GenAi-RAG)\\venv\\lib\\site-packages\\fastapi\\routing.py\", line 213, in run_endpoint_function\n",
      "    return await dependant.call(**values)\n",
      "  File \"C:\\Users\\Suman Vemula\\AppData\\Local\\Temp\\ipykernel_15624\\2639834190.py\", line 6, in index\n",
      "    return templates.TemplateResponse(\"chat.html\", {\"request\": request})\n",
      "  File \"d:\\Customer_Support_System(GenAi-RAG)\\venv\\lib\\site-packages\\starlette\\templating.py\", line 210, in TemplateResponse\n",
      "    return _TemplateResponse(\n",
      "  File \"d:\\Customer_Support_System(GenAi-RAG)\\venv\\lib\\site-packages\\starlette\\templating.py\", line 41, in __init__\n",
      "    content = template.render(context)\n",
      "  File \"d:\\Customer_Support_System(GenAi-RAG)\\venv\\lib\\site-packages\\jinja2\\environment.py\", line 1295, in render\n",
      "    self.environment.handle_exception()\n",
      "  File \"d:\\Customer_Support_System(GenAi-RAG)\\venv\\lib\\site-packages\\jinja2\\environment.py\", line 942, in handle_exception\n",
      "    raise rewrite_traceback_stack(source=source)\n",
      "  File \"D:\\Customer_Support_System(GenAi-RAG)\\templates\\chat.html\", line 8, in top-level template code\n",
      "    <link rel=\"stylesheet\" type=\"text/css\" href=\"{{ url_for('static', path='style.css') }}\">\n",
      "  File \"d:\\Customer_Support_System(GenAi-RAG)\\venv\\lib\\site-packages\\starlette\\templating.py\", line 127, in url_for\n",
      "    return request.url_for(name, **path_params)\n",
      "  File \"d:\\Customer_Support_System(GenAi-RAG)\\venv\\lib\\site-packages\\starlette\\requests.py\", line 187, in url_for\n",
      "    url_path = url_path_provider.url_path_for(name, **path_params)\n",
      "  File \"d:\\Customer_Support_System(GenAi-RAG)\\venv\\lib\\site-packages\\starlette\\routing.py\", line 663, in url_path_for\n",
      "    raise NoMatchFound(name, path_params)\n",
      "starlette.routing.NoMatchFound: No route exists for name \"static\" and params \"path\".\n"
     ]
    },
    {
     "name": "stdout",
     "output_type": "stream",
     "text": [
      "INFO:     127.0.0.1:57155 - \"GET /favicon.ico HTTP/1.1\" 404 Not Found\n",
      "INFO:     127.0.0.1:57156 - \"GET /docs HTTP/1.1\" 200 OK\n",
      "INFO:     127.0.0.1:57156 - \"GET /openapi.json HTTP/1.1\" 200 OK\n"
     ]
    },
    {
     "name": "stderr",
     "output_type": "stream",
     "text": [
      "d:\\Customer_Support_System(GenAi-RAG)\\venv\\lib\\site-packages\\fastapi\\openapi\\utils.py:246: UserWarning: Duplicate Operation ID chat_get_post for function chat\n",
      "  warnings.warn(message, stacklevel=1)\n"
     ]
    },
    {
     "name": "stdout",
     "output_type": "stream",
     "text": [
      "Response: <think>\n",
      "Okay, so the user is asking about a low-budget headphone. Let me look at the context provided. There are a few products listed here.\n",
      "\n",
      "First, the BoAt BassHeads 100 Wired Headset has a rating of 4 and is described as \"Very Good.\" The reviews mention it's happy with the purchase, likes the design, quality, and bass. Another review gives it a 3 and says it's \"Fair,\" but still mentions the sound quality and bass are good for the cost. So this seems like an affordable option.\n",
      "\n",
      "Then there's the OnePlus Bullets Wireless Z Bass Edition Bluetooth Headset with a 5-star rating. The reviews use words like \"awesome,\" \"worth every penny,\" and mention good battery life. However, since it's from OnePlus, it might be a bit pricier than the BoAt option.\n",
      "\n",
      "Lastly, the realme Buds Q Bluetooth Headset also has a 5-star rating and the review says it's a nice product at that range, specifically mentioning it was bought for 1599, which is a good price point.\n",
      "\n",
      "So, considering the ratings and the prices implied by the reviews, the BoAt BassHeads 100 is wired and probably the most budget-friendly. The realme Buds Q is also affordable but wireless, which might be a bit more expensive than the BoAt. The OnePlus is likely the priciest.\n",
      "\n",
      "Therefore, the BoAt BassHeads 100 seems like the best low-budget option to recommend.\n",
      "</think>\n",
      "\n",
      "Based on the context, I recommend the **BoAt BassHeads 100 Wired Headset** as a low-budget option. It has a 4-star rating, positive reviews about design, sound quality, and bass, and is highlighted as a good value for its cost.\n",
      "INFO:     127.0.0.1:57174 - \"POST /get HTTP/1.1\" 200 OK\n",
      "INFO:     127.0.0.1:57181 - \"GET / HTTP/1.1\" 500 Internal Server Error\n"
     ]
    },
    {
     "name": "stderr",
     "output_type": "stream",
     "text": [
      "ERROR:    Exception in ASGI application\n",
      "Traceback (most recent call last):\n",
      "  File \"d:\\Customer_Support_System(GenAi-RAG)\\venv\\lib\\site-packages\\uvicorn\\protocols\\http\\h11_impl.py\", line 403, in run_asgi\n",
      "    result = await app(  # type: ignore[func-returns-value]\n",
      "  File \"d:\\Customer_Support_System(GenAi-RAG)\\venv\\lib\\site-packages\\uvicorn\\middleware\\proxy_headers.py\", line 60, in __call__\n",
      "    return await self.app(scope, receive, send)\n",
      "  File \"d:\\Customer_Support_System(GenAi-RAG)\\venv\\lib\\site-packages\\fastapi\\applications.py\", line 1054, in __call__\n",
      "    await super().__call__(scope, receive, send)\n",
      "  File \"d:\\Customer_Support_System(GenAi-RAG)\\venv\\lib\\site-packages\\starlette\\applications.py\", line 113, in __call__\n",
      "    await self.middleware_stack(scope, receive, send)\n",
      "  File \"d:\\Customer_Support_System(GenAi-RAG)\\venv\\lib\\site-packages\\starlette\\middleware\\errors.py\", line 186, in __call__\n",
      "    raise exc\n",
      "  File \"d:\\Customer_Support_System(GenAi-RAG)\\venv\\lib\\site-packages\\starlette\\middleware\\errors.py\", line 164, in __call__\n",
      "    await self.app(scope, receive, _send)\n",
      "  File \"d:\\Customer_Support_System(GenAi-RAG)\\venv\\lib\\site-packages\\starlette\\middleware\\cors.py\", line 85, in __call__\n",
      "    await self.app(scope, receive, send)\n",
      "  File \"d:\\Customer_Support_System(GenAi-RAG)\\venv\\lib\\site-packages\\starlette\\middleware\\exceptions.py\", line 63, in __call__\n",
      "    await wrap_app_handling_exceptions(self.app, conn)(scope, receive, send)\n",
      "  File \"d:\\Customer_Support_System(GenAi-RAG)\\venv\\lib\\site-packages\\starlette\\_exception_handler.py\", line 53, in wrapped_app\n",
      "    raise exc\n",
      "  File \"d:\\Customer_Support_System(GenAi-RAG)\\venv\\lib\\site-packages\\starlette\\_exception_handler.py\", line 42, in wrapped_app\n",
      "    await app(scope, receive, sender)\n",
      "  File \"d:\\Customer_Support_System(GenAi-RAG)\\venv\\lib\\site-packages\\starlette\\routing.py\", line 716, in __call__\n",
      "    await self.middleware_stack(scope, receive, send)\n",
      "  File \"d:\\Customer_Support_System(GenAi-RAG)\\venv\\lib\\site-packages\\starlette\\routing.py\", line 736, in app\n",
      "    await route.handle(scope, receive, send)\n",
      "  File \"d:\\Customer_Support_System(GenAi-RAG)\\venv\\lib\\site-packages\\starlette\\routing.py\", line 290, in handle\n",
      "    await self.app(scope, receive, send)\n",
      "  File \"d:\\Customer_Support_System(GenAi-RAG)\\venv\\lib\\site-packages\\starlette\\routing.py\", line 78, in app\n",
      "    await wrap_app_handling_exceptions(app, request)(scope, receive, send)\n",
      "  File \"d:\\Customer_Support_System(GenAi-RAG)\\venv\\lib\\site-packages\\starlette\\_exception_handler.py\", line 53, in wrapped_app\n",
      "    raise exc\n",
      "  File \"d:\\Customer_Support_System(GenAi-RAG)\\venv\\lib\\site-packages\\starlette\\_exception_handler.py\", line 42, in wrapped_app\n",
      "    await app(scope, receive, sender)\n",
      "  File \"d:\\Customer_Support_System(GenAi-RAG)\\venv\\lib\\site-packages\\starlette\\routing.py\", line 75, in app\n",
      "    response = await f(request)\n",
      "  File \"d:\\Customer_Support_System(GenAi-RAG)\\venv\\lib\\site-packages\\fastapi\\routing.py\", line 302, in app\n",
      "    raw_response = await run_endpoint_function(\n",
      "  File \"d:\\Customer_Support_System(GenAi-RAG)\\venv\\lib\\site-packages\\fastapi\\routing.py\", line 213, in run_endpoint_function\n",
      "    return await dependant.call(**values)\n",
      "  File \"C:\\Users\\Suman Vemula\\AppData\\Local\\Temp\\ipykernel_15624\\2639834190.py\", line 6, in index\n",
      "    return templates.TemplateResponse(\"chat.html\", {\"request\": request})\n",
      "  File \"d:\\Customer_Support_System(GenAi-RAG)\\venv\\lib\\site-packages\\starlette\\templating.py\", line 210, in TemplateResponse\n",
      "    return _TemplateResponse(\n",
      "  File \"d:\\Customer_Support_System(GenAi-RAG)\\venv\\lib\\site-packages\\starlette\\templating.py\", line 41, in __init__\n",
      "    content = template.render(context)\n",
      "  File \"d:\\Customer_Support_System(GenAi-RAG)\\venv\\lib\\site-packages\\jinja2\\environment.py\", line 1295, in render\n",
      "    self.environment.handle_exception()\n",
      "  File \"d:\\Customer_Support_System(GenAi-RAG)\\venv\\lib\\site-packages\\jinja2\\environment.py\", line 942, in handle_exception\n",
      "    raise rewrite_traceback_stack(source=source)\n",
      "  File \"D:\\Customer_Support_System(GenAi-RAG)\\templates\\chat.html\", line 8, in top-level template code\n",
      "    <link rel=\"stylesheet\" type=\"text/css\" href=\"{{ url_for('static', path='style.css') }}\">\n",
      "  File \"d:\\Customer_Support_System(GenAi-RAG)\\venv\\lib\\site-packages\\starlette\\templating.py\", line 127, in url_for\n",
      "    return request.url_for(name, **path_params)\n",
      "  File \"d:\\Customer_Support_System(GenAi-RAG)\\venv\\lib\\site-packages\\starlette\\requests.py\", line 187, in url_for\n",
      "    url_path = url_path_provider.url_path_for(name, **path_params)\n",
      "  File \"d:\\Customer_Support_System(GenAi-RAG)\\venv\\lib\\site-packages\\starlette\\routing.py\", line 663, in url_path_for\n",
      "    raise NoMatchFound(name, path_params)\n",
      "starlette.routing.NoMatchFound: No route exists for name \"static\" and params \"path\".\n",
      "INFO:     Shutting down\n",
      "INFO:     Waiting for application shutdown.\n",
      "INFO:     Application shutdown complete.\n",
      "INFO:     Finished server process [15624]\n"
     ]
    }
   ],
   "source": [
    "import nest_asyncio\n",
    "import uvicorn\n",
    "\n",
    "if __name__ == \"__main__\":\n",
    "    nest_asyncio.apply()\n",
    "    uvicorn.run(app)"
   ]
  },
  {
   "cell_type": "code",
   "execution_count": null,
   "id": "035df4a9",
   "metadata": {},
   "outputs": [],
   "source": []
  }
 ],
 "metadata": {
  "kernelspec": {
   "display_name": "venv",
   "language": "python",
   "name": "python3"
  },
  "language_info": {
   "codemirror_mode": {
    "name": "ipython",
    "version": 3
   },
   "file_extension": ".py",
   "mimetype": "text/x-python",
   "name": "python",
   "nbconvert_exporter": "python",
   "pygments_lexer": "ipython3",
   "version": "3.10.0"
  }
 },
 "nbformat": 4,
 "nbformat_minor": 5
}
